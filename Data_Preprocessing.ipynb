{
  "nbformat": 4,
  "nbformat_minor": 0,
  "metadata": {
    "accelerator": "GPU",
    "colab": {
      "name": "AllEdit2.ipynb의 사본",
      "provenance": [],
      "collapsed_sections": [],
      "authorship_tag": "ABX9TyPgEOoxuVuKpywT6+04exn2"
    },
    "kernelspec": {
      "display_name": "Python 3",
      "name": "python3"
    },
    "language_info": {
      "name": "python"
    }
  },
  "cells": [
    {
      "cell_type": "markdown",
      "metadata": {
        "id": "_TigCAhQJGC2"
      },
      "source": [
        "#**AI voice phishing prevention system using STT API for the elderly and the weak**\n",
        "######Edit data : 2021-09-16\n",
        "######*2021 Probono Project*"
      ]
    },
    {
      "cell_type": "markdown",
      "metadata": {
        "id": "1sNZcvL-JUm1"
      },
      "source": [
        "#**0. Requirement (import)**"
      ]
    },
    {
      "cell_type": "code",
      "metadata": {
        "colab": {
          "base_uri": "https://localhost:8080/"
        },
        "id": "RdKZdIhlI_Pn",
        "outputId": "539ce24c-9117-4972-953f-adfb40147724"
      },
      "source": [
        "!apt-get update\n",
        "!apt-get install g++ openjdk-8-jdk python-dev python3-dev\n",
        "!pip3 install JPype1-py3\n",
        "!pip3 install konlpy\n",
        "!JAVA_HOME=\"C:\\Program Files\\Java\\jdk-16.0.1\"\n",
        "\n",
        "from konlpy.tag import Okt\n",
        "okt = Okt()\n",
        "\n",
        "import numpy as np\n",
        "import pandas as pd\n",
        "from tensorflow import keras\n",
        "from tensorflow.keras.preprocessing.text import Tokenizer\n",
        "from tensorflow.keras.utils import to_categorical\n",
        "from tensorflow.keras.preprocessing.sequence import pad_sequences\n",
        "from random import *\n",
        "from sklearn.datasets import load_digits\n",
        "import nltk\n",
        "nltk.download('punkt')"
      ],
      "execution_count": null,
      "outputs": [
        {
          "output_type": "stream",
          "name": "stdout",
          "text": [
            "Get:1 https://cloud.r-project.org/bin/linux/ubuntu bionic-cran40/ InRelease [3,626 B]\n",
            "Ign:2 https://developer.download.nvidia.com/compute/cuda/repos/ubuntu1804/x86_64  InRelease\n",
            "Hit:3 http://ppa.launchpad.net/c2d4u.team/c2d4u4.0+/ubuntu bionic InRelease\n",
            "Ign:4 https://developer.download.nvidia.com/compute/machine-learning/repos/ubuntu1804/x86_64  InRelease\n",
            "Hit:5 https://developer.download.nvidia.com/compute/cuda/repos/ubuntu1804/x86_64  Release\n",
            "Hit:6 https://developer.download.nvidia.com/compute/machine-learning/repos/ubuntu1804/x86_64  Release\n",
            "Hit:7 http://archive.ubuntu.com/ubuntu bionic InRelease\n",
            "Get:8 http://security.ubuntu.com/ubuntu bionic-security InRelease [88.7 kB]\n",
            "Get:9 http://archive.ubuntu.com/ubuntu bionic-updates InRelease [88.7 kB]\n",
            "Hit:10 http://ppa.launchpad.net/cran/libgit2/ubuntu bionic InRelease\n",
            "Hit:11 http://ppa.launchpad.net/deadsnakes/ppa/ubuntu bionic InRelease\n",
            "Get:12 http://archive.ubuntu.com/ubuntu bionic-backports InRelease [74.6 kB]\n",
            "Hit:14 http://ppa.launchpad.net/graphics-drivers/ppa/ubuntu bionic InRelease\n",
            "Get:16 http://security.ubuntu.com/ubuntu bionic-security/universe amd64 Packages [1,428 kB]\n",
            "Get:17 http://security.ubuntu.com/ubuntu bionic-security/main amd64 Packages [2,326 kB]\n",
            "Get:18 http://archive.ubuntu.com/ubuntu bionic-updates/main amd64 Packages [2,761 kB]\n",
            "Get:19 http://archive.ubuntu.com/ubuntu bionic-updates/universe amd64 Packages [2,202 kB]\n",
            "Fetched 8,972 kB in 3s (2,876 kB/s)\n",
            "Reading package lists... Done\n",
            "Reading package lists... Done\n",
            "Building dependency tree       \n",
            "Reading state information... Done\n",
            "python-dev is already the newest version (2.7.15~rc1-1).\n",
            "g++ is already the newest version (4:7.4.0-1ubuntu2.3).\n",
            "g++ set to manually installed.\n",
            "python3-dev is already the newest version (3.6.7-1~18.04).\n",
            "python3-dev set to manually installed.\n",
            "The following additional packages will be installed:\n",
            "  fonts-dejavu-core fonts-dejavu-extra libatk-wrapper-java\n",
            "  libatk-wrapper-java-jni libgail-common libgail18 libgtk2.0-0 libgtk2.0-bin\n",
            "  libgtk2.0-common libxxf86dga1 openjdk-8-jdk-headless openjdk-8-jre\n",
            "  openjdk-8-jre-headless x11-utils\n",
            "Suggested packages:\n",
            "  gvfs openjdk-8-demo openjdk-8-source visualvm icedtea-8-plugin libnss-mdns\n",
            "  fonts-ipafont-gothic fonts-ipafont-mincho fonts-wqy-microhei\n",
            "  fonts-wqy-zenhei fonts-indic mesa-utils\n",
            "The following NEW packages will be installed:\n",
            "  fonts-dejavu-core fonts-dejavu-extra libatk-wrapper-java\n",
            "  libatk-wrapper-java-jni libgail-common libgail18 libgtk2.0-0 libgtk2.0-bin\n",
            "  libgtk2.0-common libxxf86dga1 openjdk-8-jdk openjdk-8-jdk-headless\n",
            "  openjdk-8-jre openjdk-8-jre-headless x11-utils\n",
            "0 upgraded, 15 newly installed, 0 to remove and 52 not upgraded.\n",
            "Need to get 43.5 MB of archives.\n",
            "After this operation, 163 MB of additional disk space will be used.\n",
            "Get:1 http://archive.ubuntu.com/ubuntu bionic/main amd64 libxxf86dga1 amd64 2:1.1.4-1 [13.7 kB]\n",
            "Get:2 http://archive.ubuntu.com/ubuntu bionic/main amd64 fonts-dejavu-core all 2.37-1 [1,041 kB]\n",
            "Get:3 http://archive.ubuntu.com/ubuntu bionic/main amd64 fonts-dejavu-extra all 2.37-1 [1,953 kB]\n",
            "Get:4 http://archive.ubuntu.com/ubuntu bionic/main amd64 x11-utils amd64 7.7+3build1 [196 kB]\n",
            "Get:5 http://archive.ubuntu.com/ubuntu bionic/main amd64 libatk-wrapper-java all 0.33.3-20ubuntu0.1 [34.7 kB]\n",
            "Get:6 http://archive.ubuntu.com/ubuntu bionic/main amd64 libatk-wrapper-java-jni amd64 0.33.3-20ubuntu0.1 [28.3 kB]\n",
            "Get:7 http://archive.ubuntu.com/ubuntu bionic/main amd64 libgtk2.0-common all 2.24.32-1ubuntu1 [125 kB]\n",
            "Get:8 http://archive.ubuntu.com/ubuntu bionic/main amd64 libgtk2.0-0 amd64 2.24.32-1ubuntu1 [1,769 kB]\n",
            "Get:9 http://archive.ubuntu.com/ubuntu bionic/main amd64 libgail18 amd64 2.24.32-1ubuntu1 [14.2 kB]\n",
            "Get:10 http://archive.ubuntu.com/ubuntu bionic/main amd64 libgail-common amd64 2.24.32-1ubuntu1 [112 kB]\n",
            "Get:11 http://archive.ubuntu.com/ubuntu bionic/main amd64 libgtk2.0-bin amd64 2.24.32-1ubuntu1 [7,536 B]\n",
            "Get:12 http://archive.ubuntu.com/ubuntu bionic-updates/universe amd64 openjdk-8-jre-headless amd64 8u292-b10-0ubuntu1~18.04 [28.2 MB]\n",
            "Get:13 http://archive.ubuntu.com/ubuntu bionic-updates/universe amd64 openjdk-8-jre amd64 8u292-b10-0ubuntu1~18.04 [69.6 kB]\n",
            "Get:14 http://archive.ubuntu.com/ubuntu bionic-updates/universe amd64 openjdk-8-jdk-headless amd64 8u292-b10-0ubuntu1~18.04 [8,284 kB]\n",
            "Get:15 http://archive.ubuntu.com/ubuntu bionic-updates/universe amd64 openjdk-8-jdk amd64 8u292-b10-0ubuntu1~18.04 [1,644 kB]\n",
            "Fetched 43.5 MB in 3s (16.5 MB/s)\n",
            "Selecting previously unselected package libxxf86dga1:amd64.\n",
            "(Reading database ... 155013 files and directories currently installed.)\n",
            "Preparing to unpack .../00-libxxf86dga1_2%3a1.1.4-1_amd64.deb ...\n",
            "Unpacking libxxf86dga1:amd64 (2:1.1.4-1) ...\n",
            "Selecting previously unselected package fonts-dejavu-core.\n",
            "Preparing to unpack .../01-fonts-dejavu-core_2.37-1_all.deb ...\n",
            "Unpacking fonts-dejavu-core (2.37-1) ...\n",
            "Selecting previously unselected package fonts-dejavu-extra.\n",
            "Preparing to unpack .../02-fonts-dejavu-extra_2.37-1_all.deb ...\n",
            "Unpacking fonts-dejavu-extra (2.37-1) ...\n",
            "Selecting previously unselected package x11-utils.\n",
            "Preparing to unpack .../03-x11-utils_7.7+3build1_amd64.deb ...\n",
            "Unpacking x11-utils (7.7+3build1) ...\n",
            "Selecting previously unselected package libatk-wrapper-java.\n",
            "Preparing to unpack .../04-libatk-wrapper-java_0.33.3-20ubuntu0.1_all.deb ...\n",
            "Unpacking libatk-wrapper-java (0.33.3-20ubuntu0.1) ...\n",
            "Selecting previously unselected package libatk-wrapper-java-jni:amd64.\n",
            "Preparing to unpack .../05-libatk-wrapper-java-jni_0.33.3-20ubuntu0.1_amd64.deb ...\n",
            "Unpacking libatk-wrapper-java-jni:amd64 (0.33.3-20ubuntu0.1) ...\n",
            "Selecting previously unselected package libgtk2.0-common.\n",
            "Preparing to unpack .../06-libgtk2.0-common_2.24.32-1ubuntu1_all.deb ...\n",
            "Unpacking libgtk2.0-common (2.24.32-1ubuntu1) ...\n",
            "Selecting previously unselected package libgtk2.0-0:amd64.\n",
            "Preparing to unpack .../07-libgtk2.0-0_2.24.32-1ubuntu1_amd64.deb ...\n",
            "Unpacking libgtk2.0-0:amd64 (2.24.32-1ubuntu1) ...\n",
            "Selecting previously unselected package libgail18:amd64.\n",
            "Preparing to unpack .../08-libgail18_2.24.32-1ubuntu1_amd64.deb ...\n",
            "Unpacking libgail18:amd64 (2.24.32-1ubuntu1) ...\n",
            "Selecting previously unselected package libgail-common:amd64.\n",
            "Preparing to unpack .../09-libgail-common_2.24.32-1ubuntu1_amd64.deb ...\n",
            "Unpacking libgail-common:amd64 (2.24.32-1ubuntu1) ...\n",
            "Selecting previously unselected package libgtk2.0-bin.\n",
            "Preparing to unpack .../10-libgtk2.0-bin_2.24.32-1ubuntu1_amd64.deb ...\n",
            "Unpacking libgtk2.0-bin (2.24.32-1ubuntu1) ...\n",
            "Selecting previously unselected package openjdk-8-jre-headless:amd64.\n",
            "Preparing to unpack .../11-openjdk-8-jre-headless_8u292-b10-0ubuntu1~18.04_amd64.deb ...\n",
            "Unpacking openjdk-8-jre-headless:amd64 (8u292-b10-0ubuntu1~18.04) ...\n",
            "Selecting previously unselected package openjdk-8-jre:amd64.\n",
            "Preparing to unpack .../12-openjdk-8-jre_8u292-b10-0ubuntu1~18.04_amd64.deb ...\n",
            "Unpacking openjdk-8-jre:amd64 (8u292-b10-0ubuntu1~18.04) ...\n",
            "Selecting previously unselected package openjdk-8-jdk-headless:amd64.\n",
            "Preparing to unpack .../13-openjdk-8-jdk-headless_8u292-b10-0ubuntu1~18.04_amd64.deb ...\n",
            "Unpacking openjdk-8-jdk-headless:amd64 (8u292-b10-0ubuntu1~18.04) ...\n",
            "Selecting previously unselected package openjdk-8-jdk:amd64.\n",
            "Preparing to unpack .../14-openjdk-8-jdk_8u292-b10-0ubuntu1~18.04_amd64.deb ...\n",
            "Unpacking openjdk-8-jdk:amd64 (8u292-b10-0ubuntu1~18.04) ...\n",
            "Setting up libgtk2.0-common (2.24.32-1ubuntu1) ...\n",
            "Setting up fonts-dejavu-core (2.37-1) ...\n",
            "Setting up libxxf86dga1:amd64 (2:1.1.4-1) ...\n",
            "Setting up fonts-dejavu-extra (2.37-1) ...\n",
            "Setting up openjdk-8-jre-headless:amd64 (8u292-b10-0ubuntu1~18.04) ...\n",
            "update-alternatives: using /usr/lib/jvm/java-8-openjdk-amd64/jre/bin/orbd to provide /usr/bin/orbd (orbd) in auto mode\n",
            "update-alternatives: using /usr/lib/jvm/java-8-openjdk-amd64/jre/bin/servertool to provide /usr/bin/servertool (servertool) in auto mode\n",
            "update-alternatives: using /usr/lib/jvm/java-8-openjdk-amd64/jre/bin/tnameserv to provide /usr/bin/tnameserv (tnameserv) in auto mode\n",
            "Setting up libgtk2.0-0:amd64 (2.24.32-1ubuntu1) ...\n",
            "Setting up libgail18:amd64 (2.24.32-1ubuntu1) ...\n",
            "Setting up openjdk-8-jdk-headless:amd64 (8u292-b10-0ubuntu1~18.04) ...\n",
            "update-alternatives: using /usr/lib/jvm/java-8-openjdk-amd64/bin/idlj to provide /usr/bin/idlj (idlj) in auto mode\n",
            "update-alternatives: using /usr/lib/jvm/java-8-openjdk-amd64/bin/wsimport to provide /usr/bin/wsimport (wsimport) in auto mode\n",
            "update-alternatives: using /usr/lib/jvm/java-8-openjdk-amd64/bin/jsadebugd to provide /usr/bin/jsadebugd (jsadebugd) in auto mode\n",
            "update-alternatives: using /usr/lib/jvm/java-8-openjdk-amd64/bin/native2ascii to provide /usr/bin/native2ascii (native2ascii) in auto mode\n",
            "update-alternatives: using /usr/lib/jvm/java-8-openjdk-amd64/bin/javah to provide /usr/bin/javah (javah) in auto mode\n",
            "update-alternatives: using /usr/lib/jvm/java-8-openjdk-amd64/bin/hsdb to provide /usr/bin/hsdb (hsdb) in auto mode\n",
            "update-alternatives: using /usr/lib/jvm/java-8-openjdk-amd64/bin/clhsdb to provide /usr/bin/clhsdb (clhsdb) in auto mode\n",
            "update-alternatives: using /usr/lib/jvm/java-8-openjdk-amd64/bin/extcheck to provide /usr/bin/extcheck (extcheck) in auto mode\n",
            "update-alternatives: using /usr/lib/jvm/java-8-openjdk-amd64/bin/schemagen to provide /usr/bin/schemagen (schemagen) in auto mode\n",
            "update-alternatives: using /usr/lib/jvm/java-8-openjdk-amd64/bin/xjc to provide /usr/bin/xjc (xjc) in auto mode\n",
            "update-alternatives: using /usr/lib/jvm/java-8-openjdk-amd64/bin/jhat to provide /usr/bin/jhat (jhat) in auto mode\n",
            "update-alternatives: using /usr/lib/jvm/java-8-openjdk-amd64/bin/wsgen to provide /usr/bin/wsgen (wsgen) in auto mode\n",
            "Setting up x11-utils (7.7+3build1) ...\n",
            "Setting up libgail-common:amd64 (2.24.32-1ubuntu1) ...\n",
            "Setting up libatk-wrapper-java (0.33.3-20ubuntu0.1) ...\n",
            "Setting up libgtk2.0-bin (2.24.32-1ubuntu1) ...\n",
            "Setting up libatk-wrapper-java-jni:amd64 (0.33.3-20ubuntu0.1) ...\n",
            "Setting up openjdk-8-jre:amd64 (8u292-b10-0ubuntu1~18.04) ...\n",
            "update-alternatives: using /usr/lib/jvm/java-8-openjdk-amd64/jre/bin/policytool to provide /usr/bin/policytool (policytool) in auto mode\n",
            "Setting up openjdk-8-jdk:amd64 (8u292-b10-0ubuntu1~18.04) ...\n",
            "update-alternatives: using /usr/lib/jvm/java-8-openjdk-amd64/bin/appletviewer to provide /usr/bin/appletviewer (appletviewer) in auto mode\n",
            "update-alternatives: using /usr/lib/jvm/java-8-openjdk-amd64/bin/jconsole to provide /usr/bin/jconsole (jconsole) in auto mode\n",
            "Processing triggers for man-db (2.8.3-2ubuntu0.1) ...\n",
            "Processing triggers for hicolor-icon-theme (0.17-2) ...\n",
            "Processing triggers for fontconfig (2.12.6-0ubuntu2) ...\n",
            "Processing triggers for mime-support (3.60ubuntu1) ...\n",
            "Processing triggers for libc-bin (2.27-3ubuntu1.3) ...\n",
            "/sbin/ldconfig.real: /usr/local/lib/python3.7/dist-packages/ideep4py/lib/libmkldnn.so.0 is not a symbolic link\n",
            "\n",
            "Collecting JPype1-py3\n",
            "  Downloading JPype1-py3-0.5.5.4.tar.gz (88 kB)\n",
            "\u001b[K     |████████████████████████████████| 88 kB 3.5 MB/s \n",
            "\u001b[?25hBuilding wheels for collected packages: JPype1-py3\n"
          ]
        }
      ]
    },
    {
      "cell_type": "markdown",
      "metadata": {
        "id": "ef-47y-WJWkV"
      },
      "source": [
        "#**1. KOR_EDA.py 모듈, yes,not 증량**"
      ]
    },
    {
      "cell_type": "code",
      "metadata": {
        "id": "TkhziWdTJbXv"
      },
      "source": [
        "import sys\n",
        "sys.path.append('/content/KorEDA_yes.py')\n",
        "sys.path.append('/content/KorEDA_not.py')"
      ],
      "execution_count": null,
      "outputs": []
    },
    {
      "cell_type": "code",
      "metadata": {
        "id": "zhDEIe0FJfYs"
      },
      "source": [
        "import KorEDA_yes as KEDA_yes\n",
        "import KorEDA_not as KEDA_not"
      ],
      "execution_count": null,
      "outputs": []
    },
    {
      "cell_type": "code",
      "metadata": {
        "id": "8ty3MuRlJhER"
      },
      "source": [
        "#yes Aug\n",
        "yesvpDataSet = pd.read_csv(\"/content/yesvp.txt\" , names=['data', 'label'], sep='|')\n",
        "yesvpTrainData = yesvpDataSet['data'].to_numpy()\n",
        "yesvpTargetData = yesvpDataSet['label'].to_numpy()"
      ],
      "execution_count": null,
      "outputs": []
    },
    {
      "cell_type": "code",
      "metadata": {
        "id": "UrqWJeTpJpkQ"
      },
      "source": [
        "yesDataBody=[]\n",
        "\n",
        "print(\"data set count : \",end='')\n",
        "\n",
        "for sample in yesvpTrainData:\n",
        "    for n in KEDA_yes.KOR_EDA(sample):\n",
        "        yesDataBody.append(n)\n",
        "print(len(yesDataBody))\n",
        "print(yesDataBody[0:1])\n",
        "#num=62->10044"
      ],
      "execution_count": null,
      "outputs": []
    },
    {
      "cell_type": "code",
      "metadata": {
        "id": "q1bNxZifJhBh"
      },
      "source": [
        "#not Aug\n",
        "notvpDataSet = pd.read_csv('notvp.txt', names=['text'])\n",
        "notvpTrainData = notvpDataSet['text'].to_numpy()\n",
        "\n",
        "#데이터셋개수줄이기\n",
        "num = 0\n",
        "notvpTrainDataRed = []\n",
        "for k in range(1112):\n",
        "  a = ''\n",
        "  num += 50\n",
        "  for i in range(num-50, num):\n",
        "    sentence = notvpTrainData[i]\n",
        "    a = a + sentence\n",
        "  notvpTrainDataRed.append(a)\n",
        "\n",
        "notvpTrainDataRed=np.array(notvpTrainDataRed) #list to array (now, body=numpy)\n",
        "print(len(notvpTrainData),\"->\",len(notvpTrainDataRed))"
      ],
      "execution_count": null,
      "outputs": []
    },
    {
      "cell_type": "code",
      "metadata": {
        "id": "2HhG5gjDJg-4"
      },
      "source": [
        "notDataBody=[]\n",
        "\n",
        "print(\"data set count : \",end='')\n",
        "\n",
        "for sample in notvpTrainDataRed:\n",
        "    for n in KEDA_not.KOR_EDA(sample):\n",
        "        notDataBody.append(n)\n",
        "print(len(notDataBody))\n",
        "print(notDataBody[0:1])\n",
        "#num=9->10008"
      ],
      "execution_count": null,
      "outputs": []
    },
    {
      "cell_type": "markdown",
      "metadata": {
        "id": "1y52Ddr9RuPt"
      },
      "source": [
        "#**2. yesvp + notvp 데이터셋 만들기**"
      ]
    },
    {
      "cell_type": "code",
      "metadata": {
        "id": "LNYFr4B3R9IF"
      },
      "source": [
        "yesvpTrainDataNew=yesDataBody\n",
        "notvpTrainDataNew=notDataBody"
      ],
      "execution_count": null,
      "outputs": []
    },
    {
      "cell_type": "code",
      "metadata": {
        "id": "s3ic1mhKJg5k"
      },
      "source": [
        "allTrainData=np.append(yesvpTrainDataNew,notvpTrainDataNew)\n",
        "print(len(allTrainData))"
      ],
      "execution_count": null,
      "outputs": []
    },
    {
      "cell_type": "code",
      "metadata": {
        "id": "GAxLs8oXSRSV"
      },
      "source": [
        "print(allTrainData[:])"
      ],
      "execution_count": null,
      "outputs": []
    },
    {
      "cell_type": "markdown",
      "metadata": {
        "id": "BHFR4BN6kIY1"
      },
      "source": [
        "#**3. (ALL) Target Data**"
      ]
    },
    {
      "cell_type": "code",
      "metadata": {
        "id": "h8sTmJuakVMN"
      },
      "source": [
        "print(len(yesvpTrainData))\n",
        "print(len(yesvpTrainDataNew))\n",
        "print(len(yesvpTargetData))"
      ],
      "execution_count": null,
      "outputs": []
    },
    {
      "cell_type": "code",
      "metadata": {
        "id": "nkBhWc7amRKB"
      },
      "source": [
        "#yes 데이터 라벨값 증량 개발\n",
        "\n",
        "print(len(yesvpTargetData))\n",
        "print(type(yesvpTargetData))\n",
        "print(yesvpTargetData)\n",
        "\n",
        "yesvpTargetDataNew=np.ones(10044)\n",
        "\n",
        "print(len(yesvpTargetDataNew))\n",
        "print(type(yesvpTargetDataNew))\n",
        "print(yesvpTargetDataNew)\n"
      ],
      "execution_count": null,
      "outputs": []
    },
    {
      "cell_type": "code",
      "metadata": {
        "id": "2g0BDp74kVKa"
      },
      "source": [
        "print(len(notvpTrainDataRed))\n",
        "print(len(notvpTrainDataNew))"
      ],
      "execution_count": null,
      "outputs": []
    },
    {
      "cell_type": "code",
      "metadata": {
        "id": "yflx-e4Gd8HU"
      },
      "source": [
        "#라벨링 이거 이렇게 하는거 맞나? (5번에 있는거)\n",
        "notvpTargetDataNew=np.zeros(10008)\n",
        "print(notvpTargetDataNew)\n",
        "print(len(notvpTargetDataNew))\n",
        "print(type(notvpTargetDataNew))"
      ],
      "execution_count": null,
      "outputs": []
    },
    {
      "cell_type": "code",
      "metadata": {
        "id": "z0RqrCeJesxb"
      },
      "source": [
        "allTargetData=np.append(yesvpTargetDataNew,notvpTargetDataNew) \n",
        "print(len(allTargetData))"
      ],
      "execution_count": null,
      "outputs": []
    },
    {
      "cell_type": "code",
      "metadata": {
        "id": "j6MG3tqml2dM"
      },
      "source": [
        "print(len(allTrainData))\n",
        "print(len(allTargetData))"
      ],
      "execution_count": null,
      "outputs": []
    },
    {
      "cell_type": "markdown",
      "metadata": {
        "id": "6peReb653MIp"
      },
      "source": [
        "#**4. 전처리(Preprocessing)**"
      ]
    },
    {
      "cell_type": "code",
      "metadata": {
        "id": "SRrk62keE_UL"
      },
      "source": [
        "import time\n",
        "start = time.time()\n",
        "\n",
        "# allTrainData 토큰화\n",
        "tokenize = []\n",
        "num=0\n",
        "for text in allTrainData:\n",
        "  num+=1\n",
        "  tokenSet = okt.morphs(text)\n",
        "  tokenize.append(tokenSet)\n",
        "  if num%1000==0:\n",
        "    print(num,\"/\",len(allTrainData),\"->\",time.time()-start)\n",
        "print(num,\"/\",len(allTrainData),\"->\",time.time()-start)"
      ],
      "execution_count": null,
      "outputs": []
    },
    {
      "cell_type": "code",
      "metadata": {
        "id": "oYwLVZD538mm"
      },
      "source": [
        "stop_words = pd.read_csv('stop_words_new.txt',names = ['words'], encoding='utf-16')\n",
        "stop_data = np.array(stop_words['words']).tolist()"
      ],
      "execution_count": null,
      "outputs": []
    },
    {
      "cell_type": "code",
      "metadata": {
        "id": "USpNqSUf3iX7"
      },
      "source": [
        "# 불용어처리\n",
        "stop_result = []\n",
        "stop_body = []\n",
        "for tokenSet in tokenize:\n",
        "  for token in tokenSet:\n",
        "    if token not in stop_data:\n",
        "      stop_result.append(token)\n",
        "  stop_body.append(stop_result)\n",
        "  stop_result=[]\n",
        "\n",
        "#result엔 뭐가 들어있는거지 -> result는 샘플 하나의 불용어 처리한 결과가, body는 그런 result들이 append되서 만들어짐.\n",
        "print(\"토큰화 한 샘플(tokenize) = \",tokenize[0]) #토큰화 한 샘플\n",
        "print(\"불용어 처리 된 샘플(body) = \",stop_body[0]) #불용어 처리 된 샘플\n",
        "print(len(tokenize[0]))\n",
        "print(len(stop_body[0]))\n",
        "#문제: 숫자랑 문자로 표현된 숫자 불용어 처리 어떻게 할 건지"
      ],
      "execution_count": null,
      "outputs": []
    },
    {
      "cell_type": "code",
      "metadata": {
        "id": "PW7MFiCI5HJn"
      },
      "source": [
        "#어휘사전 만들기\n",
        "t = Tokenizer()\n",
        "t.fit_on_texts(stop_body)\n",
        "print(t.word_index)\n",
        "print(len(t.word_index))"
      ],
      "execution_count": null,
      "outputs": []
    },
    {
      "cell_type": "code",
      "metadata": {
        "id": "roWGuy2Y35pH"
      },
      "source": [
        "keys = []\n",
        "for key in t.word_index.keys():\n",
        "  keys.append(key)\n",
        "print(keys[500])"
      ],
      "execution_count": null,
      "outputs": []
    },
    {
      "cell_type": "code",
      "metadata": {
        "id": "HfifPZms5uFv"
      },
      "source": [
        "keys = keys[:500]\n",
        "#print(len(keys))\n",
        "dictionary = {keys[i]:i for i in range(len(keys))}\n",
        "print(dictionary)\n",
        "t.word_index = dictionary"
      ],
      "execution_count": null,
      "outputs": []
    },
    {
      "cell_type": "code",
      "metadata": {
        "id": "bt8NOZDS5uDn"
      },
      "source": [
        "#transform\n",
        "sequence_data = t.texts_to_sequences(stop_body) #transform = 숫자화 \n",
        "print('0=',sequence_data[0])"
      ],
      "execution_count": null,
      "outputs": []
    },
    {
      "cell_type": "code",
      "metadata": {
        "id": "eJPFjmHR5uA3"
      },
      "source": [
        "#단어사전 줄이기 \n",
        "dicList = []\n",
        "for sequenceSet in sequence_data:\n",
        "  temp = []\n",
        "  for sequence in sequenceSet:\n",
        "    if sequence > 499:\n",
        "      sequence = 499\n",
        "    temp.append(sequence)\n",
        "  dicList.append(temp)\n",
        "print(dicList[0])\n",
        "print(len(t.word_index))"
      ],
      "execution_count": null,
      "outputs": []
    },
    {
      "cell_type": "code",
      "metadata": {
        "id": "mrMfOCXn5t9E"
      },
      "source": [
        "#Padding\n",
        "tokenizer = Tokenizer()\n",
        "tokenizer.fit_on_texts(allTrainData)"
      ],
      "execution_count": null,
      "outputs": []
    },
    {
      "cell_type": "code",
      "metadata": {
        "id": "LLgxs7TI5t6R"
      },
      "source": [
        "encoded = tokenizer.texts_to_sequences(allTrainData)\n",
        "print(encoded)"
      ],
      "execution_count": null,
      "outputs": []
    },
    {
      "cell_type": "code",
      "metadata": {
        "id": "zrCOfnUr5t3C"
      },
      "source": [
        "padded = pad_sequences(dicList, truncating = 'post', maxlen = 500)\n",
        "#print(padded[0])\n",
        "print(padded.shape)"
      ],
      "execution_count": null,
      "outputs": []
    },
    {
      "cell_type": "code",
      "metadata": {
        "id": "2MFwIkLA6b5E"
      },
      "source": [
        "#이거 뭔 코드예요?\n",
        "body = []\n",
        "for size in range(9900):\n",
        "    randomList = []\n",
        "    for i in range(500):\n",
        "        randomList.append(randint(1,6800))\n",
        "    body.append(randomList)\n",
        "\n",
        "body = np.array(body)\n",
        "\n",
        "final = np.append(padded, body, axis=0)\n",
        "print(final.shape)"
      ],
      "execution_count": null,
      "outputs": []
    },
    {
      "cell_type": "markdown",
      "metadata": {
        "id": "Me459YuP_n_Q"
      },
      "source": [
        "#**6. 훈련데이터셋분할**"
      ]
    },
    {
      "cell_type": "code",
      "metadata": {
        "id": "Dz6nQwre_plh"
      },
      "source": [
        "x = allTrain\n",
        "y = allTargetData"
      ],
      "execution_count": null,
      "outputs": []
    },
    {
      "cell_type": "code",
      "metadata": {
        "id": "EfnVZcdi_pia"
      },
      "source": [
        "#훈련데이터셋 분할\n",
        "from sklearn.model_selection import train_test_split\n",
        "\n",
        "#dataset 자체는 order가 깔끔히 정렬된 상태이기 때문에 반드시 dataset을 shuffle 해주어야 한다.\n",
        "#sklearn에서 제공해주는 train_test_split을 활용하면 매우 쉽게 shuffle과 split을 할 수 있다."
      ],
      "execution_count": null,
      "outputs": []
    },
    {
      "cell_type": "code",
      "metadata": {
        "id": "ZSeTWnwa_pco"
      },
      "source": [
        "x_train, x_test, y_train, y_test = train_test_split(x, y, test_size=0.2)\n",
        "\n",
        "#train_test_split()은 기본적으로 훈련데이터 세트를 75:25의 비율로 나눔 \n",
        "#이 비율을 조정하고 싶을 때는 test_size 매개변수에 테스트 세트의 비율을 전달하면 조절할 수 있음 \n",
        "#여기서는 입력된 데이터 세트의 20%를 테스트 세트로 나누기 위해 0.2를 전달"
      ],
      "execution_count": null,
      "outputs": []
    },
    {
      "cell_type": "code",
      "metadata": {
        "id": "P8mmOQg6_pY_"
      },
      "source": [
        ""
      ],
      "execution_count": null,
      "outputs": []
    },
    {
      "cell_type": "code",
      "metadata": {
        "id": "E_gpmXPI_pSI"
      },
      "source": [
        ""
      ],
      "execution_count": null,
      "outputs": []
    },
    {
      "cell_type": "code",
      "metadata": {
        "id": "BRKU8K2l_o8a"
      },
      "source": [
        ""
      ],
      "execution_count": null,
      "outputs": []
    }
  ]
}