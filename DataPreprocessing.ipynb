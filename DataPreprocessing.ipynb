{
  "nbformat": 4,
  "nbformat_minor": 0,
  "metadata": {
    "accelerator": "GPU",
    "colab": {
      "name": "AllEdit2.ipynb",
      "provenance": [],
      "collapsed_sections": [],
      "authorship_tag": "ABX9TyOx+bQB3WQX/bLWQhHfemYd"
    },
    "kernelspec": {
      "display_name": "Python 3",
      "name": "python3"
    },
    "language_info": {
      "name": "python"
    }
  },
  "cells": [
    {
      "cell_type": "markdown",
      "metadata": {
        "id": "_TigCAhQJGC2"
      },
      "source": [
        "#**AI voice phishing prevention system using STT API for the elderly and the weak**\n",
        "######Edit data : 2021-09-18\n",
        "######*2021 Probono Project*"
      ]
    },
    {
      "cell_type": "markdown",
      "metadata": {
        "id": "TkF30sehZqWE"
      },
      "source": [
        "### 할 것\n",
        "1. 필요없는 코드들 전부 주석처리 하거나 삭제\n",
        "2. 한 번 더 검수 \n",
        "3. Git에 Upload \n",
        "4. Padding 이해 , 이게 패딩이 잘 된건가 함수 넘겨줄 때 음..\n",
        "5. K hold 검증에 대해 알아보기 \n",
        "6. 머신러닝 엔진"
      ]
    },
    {
      "cell_type": "markdown",
      "metadata": {
        "id": "1sNZcvL-JUm1"
      },
      "source": [
        "#**0. Requirement (import)**"
      ]
    },
    {
      "cell_type": "code",
      "metadata": {
        "colab": {
          "base_uri": "https://localhost:8080/"
        },
        "id": "RdKZdIhlI_Pn",
        "outputId": "8b403dd1-6311-47a2-9c90-0b8aab6e7e32"
      },
      "source": [
        "!apt-get update\n",
        "!apt-get install g++ openjdk-8-jdk python-dev python3-dev\n",
        "!pip3 install JPype1-py3\n",
        "!pip3 install konlpy\n",
        "!JAVA_HOME=\"C:\\Program Files\\Java\\jdk-16.0.1\"\n",
        "\n",
        "from konlpy.tag import Okt\n",
        "okt = Okt()\n",
        "\n",
        "import numpy as np\n",
        "import pandas as pd\n",
        "from tensorflow import keras\n",
        "from tensorflow.keras.preprocessing.text import Tokenizer\n",
        "from tensorflow.keras.utils import to_categorical\n",
        "from tensorflow.keras.preprocessing.sequence import pad_sequences\n",
        "from random import *\n",
        "from sklearn.datasets import load_digits\n",
        "import nltk\n",
        "nltk.download('punkt')"
      ],
      "execution_count": 2,
      "outputs": [
        {
          "output_type": "stream",
          "name": "stdout",
          "text": [
            "\r0% [Working]\r            \rGet:1 https://cloud.r-project.org/bin/linux/ubuntu bionic-cran40/ InRelease [3,626 B]\n",
            "Ign:2 https://developer.download.nvidia.com/compute/cuda/repos/ubuntu1804/x86_64  InRelease\n",
            "Get:3 http://security.ubuntu.com/ubuntu bionic-security InRelease [88.7 kB]\n",
            "Ign:4 https://developer.download.nvidia.com/compute/machine-learning/repos/ubuntu1804/x86_64  InRelease\n",
            "Get:5 http://ppa.launchpad.net/c2d4u.team/c2d4u4.0+/ubuntu bionic InRelease [15.9 kB]\n",
            "Hit:6 https://developer.download.nvidia.com/compute/cuda/repos/ubuntu1804/x86_64  Release\n",
            "Hit:7 https://developer.download.nvidia.com/compute/machine-learning/repos/ubuntu1804/x86_64  Release\n",
            "Hit:8 http://archive.ubuntu.com/ubuntu bionic InRelease\n",
            "Get:9 http://archive.ubuntu.com/ubuntu bionic-updates InRelease [88.7 kB]\n",
            "Hit:10 http://ppa.launchpad.net/cran/libgit2/ubuntu bionic InRelease\n",
            "Hit:12 http://ppa.launchpad.net/deadsnakes/ppa/ubuntu bionic InRelease\n",
            "Get:14 http://archive.ubuntu.com/ubuntu bionic-backports InRelease [74.6 kB]\n",
            "Hit:15 http://ppa.launchpad.net/graphics-drivers/ppa/ubuntu bionic InRelease\n",
            "Get:16 http://security.ubuntu.com/ubuntu bionic-security/universe amd64 Packages [1,428 kB]\n",
            "Get:17 http://security.ubuntu.com/ubuntu bionic-security/main amd64 Packages [2,326 kB]\n",
            "Get:18 http://ppa.launchpad.net/c2d4u.team/c2d4u4.0+/ubuntu bionic/main Sources [1,799 kB]\n",
            "Get:19 http://archive.ubuntu.com/ubuntu bionic-updates/main amd64 Packages [2,761 kB]\n",
            "Get:20 http://ppa.launchpad.net/c2d4u.team/c2d4u4.0+/ubuntu bionic/main amd64 Packages [921 kB]\n",
            "Get:21 http://archive.ubuntu.com/ubuntu bionic-updates/universe amd64 Packages [2,202 kB]\n",
            "Fetched 11.7 MB in 3s (3,506 kB/s)\n",
            "Reading package lists... Done\n",
            "Reading package lists... Done\n",
            "Building dependency tree       \n",
            "Reading state information... Done\n",
            "python-dev is already the newest version (2.7.15~rc1-1).\n",
            "g++ is already the newest version (4:7.4.0-1ubuntu2.3).\n",
            "g++ set to manually installed.\n",
            "python3-dev is already the newest version (3.6.7-1~18.04).\n",
            "python3-dev set to manually installed.\n",
            "The following additional packages will be installed:\n",
            "  fonts-dejavu-core fonts-dejavu-extra libatk-wrapper-java\n",
            "  libatk-wrapper-java-jni libgail-common libgail18 libgtk2.0-0 libgtk2.0-bin\n",
            "  libgtk2.0-common libxxf86dga1 openjdk-8-jdk-headless openjdk-8-jre\n",
            "  openjdk-8-jre-headless x11-utils\n",
            "Suggested packages:\n",
            "  gvfs openjdk-8-demo openjdk-8-source visualvm icedtea-8-plugin libnss-mdns\n",
            "  fonts-ipafont-gothic fonts-ipafont-mincho fonts-wqy-microhei\n",
            "  fonts-wqy-zenhei fonts-indic mesa-utils\n",
            "The following NEW packages will be installed:\n",
            "  fonts-dejavu-core fonts-dejavu-extra libatk-wrapper-java\n",
            "  libatk-wrapper-java-jni libgail-common libgail18 libgtk2.0-0 libgtk2.0-bin\n",
            "  libgtk2.0-common libxxf86dga1 openjdk-8-jdk openjdk-8-jdk-headless\n",
            "  openjdk-8-jre openjdk-8-jre-headless x11-utils\n",
            "0 upgraded, 15 newly installed, 0 to remove and 52 not upgraded.\n",
            "Need to get 43.5 MB of archives.\n",
            "After this operation, 163 MB of additional disk space will be used.\n",
            "Get:1 http://archive.ubuntu.com/ubuntu bionic/main amd64 libxxf86dga1 amd64 2:1.1.4-1 [13.7 kB]\n",
            "Get:2 http://archive.ubuntu.com/ubuntu bionic/main amd64 fonts-dejavu-core all 2.37-1 [1,041 kB]\n",
            "Get:3 http://archive.ubuntu.com/ubuntu bionic/main amd64 fonts-dejavu-extra all 2.37-1 [1,953 kB]\n",
            "Get:4 http://archive.ubuntu.com/ubuntu bionic/main amd64 x11-utils amd64 7.7+3build1 [196 kB]\n",
            "Get:5 http://archive.ubuntu.com/ubuntu bionic/main amd64 libatk-wrapper-java all 0.33.3-20ubuntu0.1 [34.7 kB]\n",
            "Get:6 http://archive.ubuntu.com/ubuntu bionic/main amd64 libatk-wrapper-java-jni amd64 0.33.3-20ubuntu0.1 [28.3 kB]\n",
            "Get:7 http://archive.ubuntu.com/ubuntu bionic/main amd64 libgtk2.0-common all 2.24.32-1ubuntu1 [125 kB]\n",
            "Get:8 http://archive.ubuntu.com/ubuntu bionic/main amd64 libgtk2.0-0 amd64 2.24.32-1ubuntu1 [1,769 kB]\n",
            "Get:9 http://archive.ubuntu.com/ubuntu bionic/main amd64 libgail18 amd64 2.24.32-1ubuntu1 [14.2 kB]\n",
            "Get:10 http://archive.ubuntu.com/ubuntu bionic/main amd64 libgail-common amd64 2.24.32-1ubuntu1 [112 kB]\n",
            "Get:11 http://archive.ubuntu.com/ubuntu bionic/main amd64 libgtk2.0-bin amd64 2.24.32-1ubuntu1 [7,536 B]\n",
            "Get:12 http://archive.ubuntu.com/ubuntu bionic-updates/universe amd64 openjdk-8-jre-headless amd64 8u292-b10-0ubuntu1~18.04 [28.2 MB]\n",
            "Get:13 http://archive.ubuntu.com/ubuntu bionic-updates/universe amd64 openjdk-8-jre amd64 8u292-b10-0ubuntu1~18.04 [69.6 kB]\n",
            "Get:14 http://archive.ubuntu.com/ubuntu bionic-updates/universe amd64 openjdk-8-jdk-headless amd64 8u292-b10-0ubuntu1~18.04 [8,284 kB]\n",
            "Get:15 http://archive.ubuntu.com/ubuntu bionic-updates/universe amd64 openjdk-8-jdk amd64 8u292-b10-0ubuntu1~18.04 [1,644 kB]\n",
            "Fetched 43.5 MB in 3s (15.6 MB/s)\n",
            "Selecting previously unselected package libxxf86dga1:amd64.\n",
            "(Reading database ... 155013 files and directories currently installed.)\n",
            "Preparing to unpack .../00-libxxf86dga1_2%3a1.1.4-1_amd64.deb ...\n",
            "Unpacking libxxf86dga1:amd64 (2:1.1.4-1) ...\n",
            "Selecting previously unselected package fonts-dejavu-core.\n",
            "Preparing to unpack .../01-fonts-dejavu-core_2.37-1_all.deb ...\n",
            "Unpacking fonts-dejavu-core (2.37-1) ...\n",
            "Selecting previously unselected package fonts-dejavu-extra.\n",
            "Preparing to unpack .../02-fonts-dejavu-extra_2.37-1_all.deb ...\n",
            "Unpacking fonts-dejavu-extra (2.37-1) ...\n",
            "Selecting previously unselected package x11-utils.\n",
            "Preparing to unpack .../03-x11-utils_7.7+3build1_amd64.deb ...\n",
            "Unpacking x11-utils (7.7+3build1) ...\n",
            "Selecting previously unselected package libatk-wrapper-java.\n",
            "Preparing to unpack .../04-libatk-wrapper-java_0.33.3-20ubuntu0.1_all.deb ...\n",
            "Unpacking libatk-wrapper-java (0.33.3-20ubuntu0.1) ...\n",
            "Selecting previously unselected package libatk-wrapper-java-jni:amd64.\n",
            "Preparing to unpack .../05-libatk-wrapper-java-jni_0.33.3-20ubuntu0.1_amd64.deb ...\n",
            "Unpacking libatk-wrapper-java-jni:amd64 (0.33.3-20ubuntu0.1) ...\n",
            "Selecting previously unselected package libgtk2.0-common.\n",
            "Preparing to unpack .../06-libgtk2.0-common_2.24.32-1ubuntu1_all.deb ...\n",
            "Unpacking libgtk2.0-common (2.24.32-1ubuntu1) ...\n",
            "Selecting previously unselected package libgtk2.0-0:amd64.\n",
            "Preparing to unpack .../07-libgtk2.0-0_2.24.32-1ubuntu1_amd64.deb ...\n",
            "Unpacking libgtk2.0-0:amd64 (2.24.32-1ubuntu1) ...\n",
            "Selecting previously unselected package libgail18:amd64.\n",
            "Preparing to unpack .../08-libgail18_2.24.32-1ubuntu1_amd64.deb ...\n",
            "Unpacking libgail18:amd64 (2.24.32-1ubuntu1) ...\n",
            "Selecting previously unselected package libgail-common:amd64.\n",
            "Preparing to unpack .../09-libgail-common_2.24.32-1ubuntu1_amd64.deb ...\n",
            "Unpacking libgail-common:amd64 (2.24.32-1ubuntu1) ...\n",
            "Selecting previously unselected package libgtk2.0-bin.\n",
            "Preparing to unpack .../10-libgtk2.0-bin_2.24.32-1ubuntu1_amd64.deb ...\n",
            "Unpacking libgtk2.0-bin (2.24.32-1ubuntu1) ...\n",
            "Selecting previously unselected package openjdk-8-jre-headless:amd64.\n",
            "Preparing to unpack .../11-openjdk-8-jre-headless_8u292-b10-0ubuntu1~18.04_amd64.deb ...\n",
            "Unpacking openjdk-8-jre-headless:amd64 (8u292-b10-0ubuntu1~18.04) ...\n",
            "Selecting previously unselected package openjdk-8-jre:amd64.\n",
            "Preparing to unpack .../12-openjdk-8-jre_8u292-b10-0ubuntu1~18.04_amd64.deb ...\n",
            "Unpacking openjdk-8-jre:amd64 (8u292-b10-0ubuntu1~18.04) ...\n",
            "Selecting previously unselected package openjdk-8-jdk-headless:amd64.\n",
            "Preparing to unpack .../13-openjdk-8-jdk-headless_8u292-b10-0ubuntu1~18.04_amd64.deb ...\n",
            "Unpacking openjdk-8-jdk-headless:amd64 (8u292-b10-0ubuntu1~18.04) ...\n",
            "Selecting previously unselected package openjdk-8-jdk:amd64.\n",
            "Preparing to unpack .../14-openjdk-8-jdk_8u292-b10-0ubuntu1~18.04_amd64.deb ...\n",
            "Unpacking openjdk-8-jdk:amd64 (8u292-b10-0ubuntu1~18.04) ...\n",
            "Setting up libgtk2.0-common (2.24.32-1ubuntu1) ...\n",
            "Setting up fonts-dejavu-core (2.37-1) ...\n",
            "Setting up libxxf86dga1:amd64 (2:1.1.4-1) ...\n",
            "Setting up fonts-dejavu-extra (2.37-1) ...\n",
            "Setting up openjdk-8-jre-headless:amd64 (8u292-b10-0ubuntu1~18.04) ...\n",
            "update-alternatives: using /usr/lib/jvm/java-8-openjdk-amd64/jre/bin/orbd to provide /usr/bin/orbd (orbd) in auto mode\n",
            "update-alternatives: using /usr/lib/jvm/java-8-openjdk-amd64/jre/bin/servertool to provide /usr/bin/servertool (servertool) in auto mode\n",
            "update-alternatives: using /usr/lib/jvm/java-8-openjdk-amd64/jre/bin/tnameserv to provide /usr/bin/tnameserv (tnameserv) in auto mode\n",
            "Setting up libgtk2.0-0:amd64 (2.24.32-1ubuntu1) ...\n",
            "Setting up libgail18:amd64 (2.24.32-1ubuntu1) ...\n",
            "Setting up openjdk-8-jdk-headless:amd64 (8u292-b10-0ubuntu1~18.04) ...\n",
            "update-alternatives: using /usr/lib/jvm/java-8-openjdk-amd64/bin/idlj to provide /usr/bin/idlj (idlj) in auto mode\n",
            "update-alternatives: using /usr/lib/jvm/java-8-openjdk-amd64/bin/wsimport to provide /usr/bin/wsimport (wsimport) in auto mode\n",
            "update-alternatives: using /usr/lib/jvm/java-8-openjdk-amd64/bin/jsadebugd to provide /usr/bin/jsadebugd (jsadebugd) in auto mode\n",
            "update-alternatives: using /usr/lib/jvm/java-8-openjdk-amd64/bin/native2ascii to provide /usr/bin/native2ascii (native2ascii) in auto mode\n",
            "update-alternatives: using /usr/lib/jvm/java-8-openjdk-amd64/bin/javah to provide /usr/bin/javah (javah) in auto mode\n",
            "update-alternatives: using /usr/lib/jvm/java-8-openjdk-amd64/bin/hsdb to provide /usr/bin/hsdb (hsdb) in auto mode\n",
            "update-alternatives: using /usr/lib/jvm/java-8-openjdk-amd64/bin/clhsdb to provide /usr/bin/clhsdb (clhsdb) in auto mode\n",
            "update-alternatives: using /usr/lib/jvm/java-8-openjdk-amd64/bin/extcheck to provide /usr/bin/extcheck (extcheck) in auto mode\n",
            "update-alternatives: using /usr/lib/jvm/java-8-openjdk-amd64/bin/schemagen to provide /usr/bin/schemagen (schemagen) in auto mode\n",
            "update-alternatives: using /usr/lib/jvm/java-8-openjdk-amd64/bin/xjc to provide /usr/bin/xjc (xjc) in auto mode\n",
            "update-alternatives: using /usr/lib/jvm/java-8-openjdk-amd64/bin/jhat to provide /usr/bin/jhat (jhat) in auto mode\n",
            "update-alternatives: using /usr/lib/jvm/java-8-openjdk-amd64/bin/wsgen to provide /usr/bin/wsgen (wsgen) in auto mode\n",
            "Setting up x11-utils (7.7+3build1) ...\n",
            "Setting up libgail-common:amd64 (2.24.32-1ubuntu1) ...\n",
            "Setting up libatk-wrapper-java (0.33.3-20ubuntu0.1) ...\n",
            "Setting up libgtk2.0-bin (2.24.32-1ubuntu1) ...\n",
            "Setting up libatk-wrapper-java-jni:amd64 (0.33.3-20ubuntu0.1) ...\n",
            "Setting up openjdk-8-jre:amd64 (8u292-b10-0ubuntu1~18.04) ...\n",
            "update-alternatives: using /usr/lib/jvm/java-8-openjdk-amd64/jre/bin/policytool to provide /usr/bin/policytool (policytool) in auto mode\n",
            "Setting up openjdk-8-jdk:amd64 (8u292-b10-0ubuntu1~18.04) ...\n",
            "update-alternatives: using /usr/lib/jvm/java-8-openjdk-amd64/bin/appletviewer to provide /usr/bin/appletviewer (appletviewer) in auto mode\n",
            "update-alternatives: using /usr/lib/jvm/java-8-openjdk-amd64/bin/jconsole to provide /usr/bin/jconsole (jconsole) in auto mode\n",
            "Processing triggers for man-db (2.8.3-2ubuntu0.1) ...\n",
            "Processing triggers for hicolor-icon-theme (0.17-2) ...\n",
            "Processing triggers for fontconfig (2.12.6-0ubuntu2) ...\n",
            "Processing triggers for mime-support (3.60ubuntu1) ...\n",
            "Processing triggers for libc-bin (2.27-3ubuntu1.3) ...\n",
            "/sbin/ldconfig.real: /usr/local/lib/python3.7/dist-packages/ideep4py/lib/libmkldnn.so.0 is not a symbolic link\n",
            "\n",
            "Collecting JPype1-py3\n",
            "  Downloading JPype1-py3-0.5.5.4.tar.gz (88 kB)\n",
            "\u001b[K     |████████████████████████████████| 88 kB 3.8 MB/s \n",
            "\u001b[?25hBuilding wheels for collected packages: JPype1-py3\n",
            "  Building wheel for JPype1-py3 (setup.py) ... \u001b[?25l\u001b[?25hdone\n",
            "  Created wheel for JPype1-py3: filename=JPype1_py3-0.5.5.4-cp37-cp37m-linux_x86_64.whl size=2696725 sha256=0c906e910fa0fee42a55af1adbd8145885e7469605453db47bdaf8ebec8496d1\n",
            "  Stored in directory: /root/.cache/pip/wheels/e7/d1/09/f55dca0203b0691945bdf0f63d486a0b4d4e5ec4bd78a2502e\n",
            "Successfully built JPype1-py3\n",
            "Installing collected packages: JPype1-py3\n",
            "Successfully installed JPype1-py3-0.5.5.4\n",
            "Collecting konlpy\n",
            "  Downloading konlpy-0.5.2-py2.py3-none-any.whl (19.4 MB)\n",
            "\u001b[K     |████████████████████████████████| 19.4 MB 27.2 MB/s \n",
            "\u001b[?25hRequirement already satisfied: tweepy>=3.7.0 in /usr/local/lib/python3.7/dist-packages (from konlpy) (3.10.0)\n",
            "Requirement already satisfied: numpy>=1.6 in /usr/local/lib/python3.7/dist-packages (from konlpy) (1.19.5)\n",
            "Collecting colorama\n",
            "  Downloading colorama-0.4.4-py2.py3-none-any.whl (16 kB)\n",
            "Collecting JPype1>=0.7.0\n",
            "  Downloading JPype1-1.3.0-cp37-cp37m-manylinux_2_5_x86_64.manylinux1_x86_64.whl (448 kB)\n",
            "\u001b[K     |████████████████████████████████| 448 kB 48.3 MB/s \n",
            "\u001b[?25hCollecting beautifulsoup4==4.6.0\n",
            "  Downloading beautifulsoup4-4.6.0-py3-none-any.whl (86 kB)\n",
            "\u001b[K     |████████████████████████████████| 86 kB 5.6 MB/s \n",
            "\u001b[?25hRequirement already satisfied: lxml>=4.1.0 in /usr/local/lib/python3.7/dist-packages (from konlpy) (4.2.6)\n",
            "Requirement already satisfied: typing-extensions in /usr/local/lib/python3.7/dist-packages (from JPype1>=0.7.0->konlpy) (3.7.4.3)\n",
            "Requirement already satisfied: requests[socks]>=2.11.1 in /usr/local/lib/python3.7/dist-packages (from tweepy>=3.7.0->konlpy) (2.23.0)\n",
            "Requirement already satisfied: requests-oauthlib>=0.7.0 in /usr/local/lib/python3.7/dist-packages (from tweepy>=3.7.0->konlpy) (1.3.0)\n",
            "Requirement already satisfied: six>=1.10.0 in /usr/local/lib/python3.7/dist-packages (from tweepy>=3.7.0->konlpy) (1.15.0)\n",
            "Requirement already satisfied: oauthlib>=3.0.0 in /usr/local/lib/python3.7/dist-packages (from requests-oauthlib>=0.7.0->tweepy>=3.7.0->konlpy) (3.1.1)\n",
            "Requirement already satisfied: idna<3,>=2.5 in /usr/local/lib/python3.7/dist-packages (from requests[socks]>=2.11.1->tweepy>=3.7.0->konlpy) (2.10)\n",
            "Requirement already satisfied: chardet<4,>=3.0.2 in /usr/local/lib/python3.7/dist-packages (from requests[socks]>=2.11.1->tweepy>=3.7.0->konlpy) (3.0.4)\n",
            "Requirement already satisfied: certifi>=2017.4.17 in /usr/local/lib/python3.7/dist-packages (from requests[socks]>=2.11.1->tweepy>=3.7.0->konlpy) (2021.5.30)\n",
            "Requirement already satisfied: urllib3!=1.25.0,!=1.25.1,<1.26,>=1.21.1 in /usr/local/lib/python3.7/dist-packages (from requests[socks]>=2.11.1->tweepy>=3.7.0->konlpy) (1.24.3)\n",
            "Requirement already satisfied: PySocks!=1.5.7,>=1.5.6 in /usr/local/lib/python3.7/dist-packages (from requests[socks]>=2.11.1->tweepy>=3.7.0->konlpy) (1.7.1)\n",
            "Installing collected packages: JPype1, colorama, beautifulsoup4, konlpy\n",
            "  Attempting uninstall: beautifulsoup4\n",
            "    Found existing installation: beautifulsoup4 4.6.3\n",
            "    Uninstalling beautifulsoup4-4.6.3:\n",
            "      Successfully uninstalled beautifulsoup4-4.6.3\n",
            "Successfully installed JPype1-1.3.0 beautifulsoup4-4.6.0 colorama-0.4.4 konlpy-0.5.2\n",
            "[nltk_data] Downloading package punkt to /root/nltk_data...\n",
            "[nltk_data]   Unzipping tokenizers/punkt.zip.\n"
          ]
        },
        {
          "output_type": "execute_result",
          "data": {
            "text/plain": [
              "True"
            ]
          },
          "metadata": {},
          "execution_count": 2
        }
      ]
    },
    {
      "cell_type": "markdown",
      "metadata": {
        "id": "ef-47y-WJWkV"
      },
      "source": [
        "#**1. KOR_EDA.py 모듈, yes,not 증량**"
      ]
    },
    {
      "cell_type": "code",
      "metadata": {
        "id": "TkhziWdTJbXv"
      },
      "source": [
        "import sys\n",
        "sys.path.append('/content/KorEDA_yes.py')\n",
        "sys.path.append('/content/KorEDA_not.py')"
      ],
      "execution_count": 3,
      "outputs": []
    },
    {
      "cell_type": "code",
      "metadata": {
        "id": "zhDEIe0FJfYs"
      },
      "source": [
        "import KorEDA_yes as KEDA_yes\n",
        "import KorEDA_not as KEDA_not"
      ],
      "execution_count": 4,
      "outputs": []
    },
    {
      "cell_type": "code",
      "metadata": {
        "id": "8ty3MuRlJhER"
      },
      "source": [
        "#yes Aug\n",
        "yesvpDataSet = pd.read_csv(\"/content/yesvp.txt\" , names=['text', 'label'], sep='|')\n",
        "yesvpTextData = yesvpDataSet['text'].to_numpy()\n",
        "yesvpTargetData = yesvpDataSet['label'].to_numpy()"
      ],
      "execution_count": 5,
      "outputs": []
    },
    {
      "cell_type": "code",
      "metadata": {
        "colab": {
          "base_uri": "https://localhost:8080/"
        },
        "id": "UrqWJeTpJpkQ",
        "outputId": "3bcea83c-0a2d-4c28-cb9c-88ae8a9139c2"
      },
      "source": [
        "yesDataBody=[]\n",
        "\n",
        "print(\"data set count : \",end='')\n",
        "\n",
        "for sample in yesvpTextData:\n",
        "    for n in KEDA_yes.KOR_EDA(sample):\n",
        "        yesDataBody.append(n)\n",
        "print(len(yesDataBody))\n",
        "print(yesDataBody[0:1])\n",
        "#num=62->10044"
      ],
      "execution_count": 6,
      "outputs": [
        {
          "output_type": "stream",
          "name": "stdout",
          "text": [
            "data set count : 10044\n",
            "['단 잘 알겠구요. 저희들이 KB 금융 예로 KB 저축은행인데요. 지금 5월달에 저희들이 자급적으로 나온 대출상품이 있어요. 네 그리고 님 직접 8프로 대로 진행하는 부분이고 상환기간이 5년까지고요. 도 상환가능하고 작 발생에 지금 원리금균등분할 환 혹은 만기시 상환적으로 이자만 갚으시면 되는 부분이에요. 네 그리고 자급적으로 5천만원까지인데 5천만원부터 받으실거예요? 단 잘 알겠구요. 맞으시죠? 예. 고객님 혹시 지금 람 사용하고 계신 휴대폰은 본인 이름으로 돼있는거 맞으세요? 예 통신사는 SKT예요 LG예요. 예 삼성 스마트폰 맞으세요? 혹시 카톡은 사용하고 계세요? 그러면은요 카톡 추가를 해서 저희 상호하고 생 이름 넣어드릴게요. 어.. 고객님 저한테 전화를 주셔서 통화중에 제가 전화를 못받으면 카톡으로 연락을 할 수 있어서 그러는 거 아니에요. 예?']\n"
          ]
        }
      ]
    },
    {
      "cell_type": "code",
      "metadata": {
        "colab": {
          "base_uri": "https://localhost:8080/"
        },
        "id": "q1bNxZifJhBh",
        "outputId": "f4511769-bcd0-43ef-cd2b-166a51a0ae10"
      },
      "source": [
        "#not Aug\n",
        "notvpDataSet = pd.read_csv('notvp.txt', names=['text'])\n",
        "notvpTextData = notvpDataSet['text'].to_numpy()\n",
        "\n",
        "#데이터셋개수줄이기\n",
        "num = 0\n",
        "notvpTextDataRed = []\n",
        "for k in range(1112):\n",
        "  a = ''\n",
        "  num += 50\n",
        "  for i in range(num-50, num):\n",
        "    sentence = notvpTextData[i]\n",
        "    a = a + sentence\n",
        "  notvpTextDataRed.append(a)\n",
        "\n",
        "notvpTextDataRed=np.array(notvpTextDataRed) #list to array (now, body=numpy)\n",
        "print(len(notvpTextData),\"->\",len(notvpTextDataRed))"
      ],
      "execution_count": 7,
      "outputs": [
        {
          "output_type": "stream",
          "name": "stdout",
          "text": [
            "55627 -> 1112\n"
          ]
        }
      ]
    },
    {
      "cell_type": "code",
      "metadata": {
        "colab": {
          "base_uri": "https://localhost:8080/"
        },
        "id": "2HhG5gjDJg-4",
        "outputId": "077dfba5-0e66-4c7b-b967-6c4e252beca7"
      },
      "source": [
        "notDataBody=[]\n",
        "\n",
        "print(\"data set count : \",end='')\n",
        "\n",
        "for sample in notvpTextDataRed:\n",
        "    for n in KEDA_not.KOR_EDA(sample):\n",
        "        notDataBody.append(n)\n",
        "print(len(notDataBody))\n",
        "print(notDataBody[0:1])\n",
        "#num=9->10008"
      ],
      "execution_count": 8,
      "outputs": [
        {
          "output_type": "stream",
          "name": "stdout",
          "text": [
            "data set count : 10008\n",
            "['아 진짜! 사무실에서 피지 말라니깐! 간접흡연이 얼마나 안좋은데!그럼 직접흡연하는 난 얼마나 안좋겠니? 안그래? 보면 꼭... 지 생각만 하고.손님 왔어요.손님? 누구?몰라요. 팀장님 친구래요.내 친구? 친 누구?그걸 내가 어떻게 알아요!그래서... 무슨 일 해?그냥 방송일 조금. 방송? 방 뭐?케이블 같은데서 아침에 배도 타고 산도 오르고. 있어 그런 거.사는 덴 어디야?개포동.남편은 뭐하는데?동사무소에서 인구조사 나왔니? 지금.언제부터 시작할 수 있어?나? ... 나보고 하라고?그럼 내가 널 왜 만나러 왔겠어?근데 왜... 나한테...?내가 몇 명 만나봤는데에이. 내가 무슨. 이 못해.왜?나 이런 거 한번도 운 해봤어.잘됐네. 그럼 이번에 해보면 되잖아.야야. 그러지말고이런 거? 돈이 안된다 이거야? 물 제대로 줄께. 걱정마.아니. 그런 게 아니라...아니면 됐네.안된다니깐!안 내켜.왜요?뭔가 말리는 기분이야. 불길해. 뭐가?생각해봐. 친구랍시고 갑자기 불쑥 나타나서 ‘집 져줘’ 안이상해?뭐가 이상해? 우정만 돋는구만. 뭐.우정 좋아하네. 싸가지 못봤어? 지가 청담동 며느리면 다야?개포동이라며.저 나이에 명 짓겠다는 것도 이상하고... 남편 갈 받은 년인가 보지. 뭐. ... 너 오 유난히 답 잘 한다? 라임 맞춰가면서.그니까. 쓸데없는 걱 말고... 좋은 기회잖아요. 데뷰? 응? 제대로 된 포트폴리오 하나 생기는 건데... 그거 돈으로 치면 얼말까?집 짓는 이유가 그렇게 중요해? 왜또. 험악하게. 그런 게 아니라… 왜 집을 짓는지 알아야 어떤 집이 필요한지를 알지. 널 잘 알아야 너한테 맞는 집을 잘 지을 거 아니야? 안그래?아하~ 그러니까 날 잘 알고 싶다 이거지? 내가 궁금하시다? 뭐가 그렇게 궁금할까? 이 어디? 뭐?그동안 어떻게 지냈어?음... 학 졸업하고 아나운서 트 준비하면서 방송일 시작했지. 근데 시험엔 계 떨어지고. 그러다가 에라... 4년 전에 결혼하고.남편은 뭐하는데?의사. 물 잘 버는 압구정동 성형외과. 비포에프터 전문.... 오.그러다가 음... 그게 끝이네? 와. 이 너무 심플하게 살았나?']\n"
          ]
        }
      ]
    },
    {
      "cell_type": "markdown",
      "metadata": {
        "id": "1y52Ddr9RuPt"
      },
      "source": [
        "#**2. yesvp + notvp 데이터셋 만들기**"
      ]
    },
    {
      "cell_type": "code",
      "metadata": {
        "id": "LNYFr4B3R9IF"
      },
      "source": [
        "yesvpTextDataNew=yesDataBody\n",
        "notvpTextDataNew=notDataBody"
      ],
      "execution_count": 9,
      "outputs": []
    },
    {
      "cell_type": "code",
      "metadata": {
        "colab": {
          "base_uri": "https://localhost:8080/"
        },
        "id": "s3ic1mhKJg5k",
        "outputId": "94a48a05-f27b-4894-a7bf-468e331738a9"
      },
      "source": [
        "allTextData=np.append(yesvpTextDataNew,notvpTextDataNew)\n",
        "print(len(allTextData))"
      ],
      "execution_count": 10,
      "outputs": [
        {
          "output_type": "stream",
          "name": "stdout",
          "text": [
            "20052\n"
          ]
        }
      ]
    },
    {
      "cell_type": "code",
      "metadata": {
        "colab": {
          "base_uri": "https://localhost:8080/"
        },
        "id": "GAxLs8oXSRSV",
        "outputId": "5f197dc0-e0e3-406f-e1c4-2c4a1ea25a37"
      },
      "source": [
        "print(allTextData[:])"
      ],
      "execution_count": 11,
      "outputs": [
        {
          "output_type": "stream",
          "name": "stdout",
          "text": [
            "['단 잘 알겠구요. 저희들이 KB 금융 예로 KB 저축은행인데요. 지금 5월달에 저희들이 자급적으로 나온 대출상품이 있어요. 네 그리고 님 직접 8프로 대로 진행하는 부분이고 상환기간이 5년까지고요. 도 상환가능하고 작 발생에 지금 원리금균등분할 환 혹은 만기시 상환적으로 이자만 갚으시면 되는 부분이에요. 네 그리고 자급적으로 5천만원까지인데 5천만원부터 받으실거예요? 단 잘 알겠구요. 맞으시죠? 예. 고객님 혹시 지금 람 사용하고 계신 휴대폰은 본인 이름으로 돼있는거 맞으세요? 예 통신사는 SKT예요 LG예요. 예 삼성 스마트폰 맞으세요? 혹시 카톡은 사용하고 계세요? 그러면은요 카톡 추가를 해서 저희 상호하고 생 이름 넣어드릴게요. 어.. 고객님 저한테 전화를 주셔서 통화중에 제가 전화를 못받으면 카톡으로 연락을 할 수 있어서 그러는 거 아니에요. 예?'\n",
            " '일단 잘 알겠구요. 저희들이 KB 부분이고 예로 KB 저축은행인데요. 지금 5월달에 저희들이 자급적으로 나온 대출상품이 고객님 삼성 8프로 넣어드릴게요. 직접 그리고 대로 휴대폰은 금융 상환기간이 5년까지고요. 중도 발생에 수수료 상환가능하고 예. 원리금균등분할 상환 혹은 만기시 상환적으로 전화를 갚으시면 되는 부분이에요. 네 그리고 자급적으로 5천만원까지인데 5천만원부터 받으실거예요? 일단 잘 알겠구요. 맞으시죠? 지금 있어요. 혹시 지금 그 사용하고 계신 혹시 본인 이름으로 돼있는거 맞으세요? 예 통신사는 SKT예요 LG예요. 예 네 스마트폰 맞으세요? 진행하는 카톡은 사용하고 계세요? 그러면은요 카톡 추가를 해서 저희 상호하고 제 이름 님 어.. 고객님 저한테 이자만 주셔서 통화중에 제가 전화를 못받으면 카톡으로 연락을 할 수도 있어서 그러는 거 아니에요. 예?'\n",
            " '일단 잘 알겠구요. KB 금융 KB 저축은행인데요. 지금 5월달에 자급적으로 나온 대출상품이 있어요. 네 그리고 직접 8프로 대로 진행하는 부분이고 상환기간이 5년까지고요. 중도 상환가능하고 발생에 지금 원리금균등분할 상환 혹은 만기시 상환적으로 이자만 갚으시면 되는 부분이에요. 네 그리고 자급적으로 5천만원까지인데 5천만원부터 받으실거예요? 일단 잘 알겠구요. 맞으시죠? 예. 고객님 혹시 지금 그 사용하고 계신 휴대폰은 본인 이름으로 예 SKT예요 LG예요. 예 삼성 스마트폰 맞으세요? 혹시 카톡은 계세요? 그러면은요 카톡 추가를 해서 상호하고 제 이름 넣어드릴게요. 어.. 고객님 전화를 주셔서 통화중에 제가 전화를 못받으면 카톡으로 연락을 할 수도 있어서 그러는 거 아니에요. 예?'\n",
            " ...\n",
            " '초짜가 무리하지 마. 무슨 일 터지면 이쪽한테 민폐란 말이 다. 수상쩍은 내 나거든 바로 나한테 말해.아…… 예.그 눈은 뭔데?……그 쪽은니가 아니라 탐정님을 도와주는 거지역시 그렇죠?뭐……아니내가 빚진게 있다고 그러면 있는 거야. 니가 정할 일 아니잖냐.넌 이런 거랑 운 맞아. 관뒤라.어째서……인가요?일이 터 졌을 시 등 중요한 건각오…인가요. 확실히그러니까 넌 안되는 거야……어쩐지뭐? 다시 한 번 말해봐.아뇨. 아무것도 아닙니다.그 녀석들 필사적으로 의뢰인을 찾는 것 같으니까아점심 아직 운 먹었지? 사줄게아뇨. 별로 배고프지 않으니까 사양할게요.이거정말 죄송해요.나오기 직전에 조폭 녀석들이 또 왔어. 나도 옆집이잖아? 짜 끈질긴 거 있지. 바쁘다고 하고 도망쳤지만.뭘 물어봤는데요?어제 무슨 얘기 했냐역시 경찰에 가는게 맞을까?경찰 쪽은 의뢰인이 싫어해요.뭐이쪽 일을 하는 사람들한테 경찰은 친근해지기 힘든 직업이죠.그럼 그거거의 그렇다고 서 있어요.흠……예?우리 월급은 항상 직접 받는걸. 자택에 현금 좀 있어도 이상할 거없어. 거기다 보스턴백 이랬지? 나도 그거 본적 있어.어? 정말요?그치만그 맨션 사람들 전부사원이니까혹시무시하지 마. 받은 돈은 제대로 은행에 넣고 있어. 자동이체로 여기저기 빠져 나갈 데가 많으니까. 그래도 집에도 보내고 하면 반 운 남아. 의미도없는 시스템이라니깐.그럼글쎄. 나도 몰라혹시……횡령하기 쉽게 하려고 그랬다거나.조수씨는 뭐든지 의심하는구나?…아무래도 정 조수니까요.그렇게 편한대로 쓸만한 말은 아닌것 같은데?그 사람은 왜 자 딸한테 그렇게 위험한 짓을 시켰을까. 조폭까지 쫓아다니고 말이야.…..조폭이 의뢰주를 왜 찾을 걸까요?왜라니?그러니까 그게 사 돈이라면 조폭과는 관계없는 거잖아요회사 사람이 부탁한 거 아닐까?'\n",
            " '초짜가 무리하지 마. 그렇다고 일 터지면 이쪽한테 도망쳤지만.뭘 말이 다. 수상쩍은 냄새 나거든 바로 나한테 말해.아…… 예.그 눈은 뭔데?……그 쪽은니가 조폭까지 탐정님을 도와주는 거지역시 않으니까 빚진게 있다고 그러면 있는 거야. 니가 정할 일 아니잖냐.넌 본적 거랑 안 맞아. 관뒤라.어째서……인가요?일이 터 졌을 그거거의 제일 중요한 건각오…인가요. 확실히그러니까 싫어해요.뭐이쪽 많으니까. 거야……어쩐지뭐? 다시 한 번 말해봐.아뇨. 아무것도 아닙니다.그 녀석들 필사적으로 의뢰인을 찾는 것 같으니까아점심 아직 안 먹었지? 사줄게아뇨. 별로 배고프지 그렇죠?뭐……아니내가 사양할게요.이거정말 죄송해요.나오기 직전에 조폭 조폭과는 또 왔어. 나도 옆집이잖아? 진짜 끈질긴 거 있지. 바쁘다고 하고 사람이 물어봤는데요?어제 무슨 얘기 했냐역시 경찰에 가는게 맞을까?경찰 쪽은 의뢰인이 넌 일을 이랬지? 사람들한테 경찰은 친근해지기 힘든 거 때 자동이체로 보고 있어요.흠……예?우리 월급은 항상 직접 이상할 자택에 현금 좀 있어도 받는걸. 거없어. 거기다 의미도없는 하는 나도 그거 이런 있어.어? 정말요?그치만그 맨션 사람들 전부사원이니까혹시무시하지 마. 받은 돈은 직업이죠.그럼 은행에 넣고 있어. 무슨 여기저기 빠져 나갈 데가 안되는 그래도 집에도 그랬다거나.조수씨는 하면 반도 안 남아. 보스턴백 시스템이라니깐.그럼글쎄. 나도 몰라혹시……횡령하기 쉽게 하려고 보내고 뭐든지 의심하는구나?…아무래도 탐정 조수니까요.그렇게 편한대로 쓸만한 말은 아닌것 같은데?그 사람은 왜 자기 딸한테 그렇게 위험한 짓을 시켰을까. 아니라 쫓아다니고 말이야.…..조폭이 의뢰주를 왜 찾을 걸까요?왜라니?그러니까 그게 회사 돈이라면 녀석들이 관계없는 민폐란 거잖아요회사 부탁한 제대로 아닐까?'\n",
            " '초짜가 무리하지 마. 무슨 일 터지면 이쪽한테 민폐란 말이 다. 수상쩍은 냄새 나거든 바로 나한테 말해.아…… 예.그 눈은 뭔데?……그 쪽은니가 아니라 탐정님을 도와주는 거지역시 그렇죠?뭐……아니내가 빚진게 있다고 그러면 있는 거야. 니가 정할 일 아니잖냐.넌 이런 거랑 안 맞아. 관뒤라.어째서……인가요?일이 터 졌을 때 제일 중요한 건각오…인가요. 확실히그러니까 넌 안되는 거야……어쩐지뭐? 다시 한 번 말해봐.아뇨. 아무것도 아닙니다.그 녀석들 필사적으로 의뢰인을 찾는 것 같으니까아점심 아직 안 먹었지? 사줄게아뇨. 별로 배고프지 않으니까 사양할게요.이거정말 죄송해요.나오기 직전에 조폭 녀석들이 또 왔어. 나도 옆집이잖아? 진짜 끈질긴 거 있지. 바쁘다고 하고 도망쳤지만.뭘 물어봤는데요?어제 무슨 얘기 했냐역시 경찰에 가는게 맞을까?경찰 쪽은 의뢰인이 싫어해요.뭐이쪽 일을 하는 사람들한테 경찰은 친근해지기 힘든 직업이죠.그럼 그거거의 그렇다고 보고 있어요.흠……예?우리 월급은 항상 직접 받는걸. 자택에 현금 좀 있어도 이상할 거없어. 거기다 보스턴백 이랬지? 나도 그거 본적 있어.어? 정말요?그치만그 맨션 사람들 전부사원이니까혹시무시하지 마. 받은 돈은 제대로 은행에 넣고 있어. 자동이체로 여기저기 빠져 나갈 데가 많으니까. 그래도 집에도 보내고 하면 반도 안 남아. 의미도없는 시스템이라니깐.그럼글쎄. 나도 몰라혹시……횡령하기 쉽게 하려고 그랬다거나.조수씨는 뭐든지 의심하는구나?…아무래도 탐정 조수니까요.그렇게 편한대로 쓸만한 말은 아닌것 같은데?그 사람은 왜 자기 딸한테 그렇게 위험한 짓을 시켰을까. 조폭까지 쫓아다니고 말이야.…..조폭이 의뢰주를 왜 찾을 걸까요?왜라니?그러니까 그게 회사 돈이라면 조폭과는 관계없는 거잖아요회사 사람이 부탁한 거 아닐까?']\n"
          ]
        }
      ]
    },
    {
      "cell_type": "markdown",
      "metadata": {
        "id": "BHFR4BN6kIY1"
      },
      "source": [
        "#**3. (ALL) Target Data**"
      ]
    },
    {
      "cell_type": "code",
      "metadata": {
        "colab": {
          "base_uri": "https://localhost:8080/"
        },
        "id": "h8sTmJuakVMN",
        "outputId": "87ba71cb-8b86-4f9d-902b-01798e5ec7d2"
      },
      "source": [
        "print(len(yesvpTextData))\n",
        "print(len(yesvpTextDataNew))\n",
        "print(len(yesvpTargetData))\n",
        "#필요없는 부분 삭제요망 "
      ],
      "execution_count": 12,
      "outputs": [
        {
          "output_type": "stream",
          "name": "stdout",
          "text": [
            "162\n",
            "10044\n",
            "162\n"
          ]
        }
      ]
    },
    {
      "cell_type": "code",
      "metadata": {
        "colab": {
          "base_uri": "https://localhost:8080/"
        },
        "id": "nkBhWc7amRKB",
        "outputId": "721e5a05-fcfe-4f43-92e3-4512268e225e"
      },
      "source": [
        "#yes 데이터 라벨값 증량 개발\n",
        "\n",
        "print(len(yesvpTargetData))\n",
        "print(type(yesvpTargetData))\n",
        "print(yesvpTargetData)\n",
        "\n",
        "yesvpTargetDataNew=np.ones(10044)\n",
        "\n",
        "print(len(yesvpTargetDataNew))\n",
        "print(type(yesvpTargetDataNew))\n",
        "print(yesvpTargetDataNew)\n"
      ],
      "execution_count": 13,
      "outputs": [
        {
          "output_type": "stream",
          "name": "stdout",
          "text": [
            "162\n",
            "<class 'numpy.ndarray'>\n",
            "[1 1 1 1 1 1 1 1 1 1 1 1 1 1 1 1 1 1 1 1 1 1 1 1 1 1 1 1 1 1 1 1 1 1 1 1 1\n",
            " 1 1 1 1 1 1 1 1 1 1 1 1 1 1 1 1 1 1 1 1 1 1 1 1 1 1 1 1 1 1 1 1 1 1 1 1 1\n",
            " 1 1 1 1 1 1 1 1 1 1 1 1 1 1 1 1 1 1 1 1 1 1 1 1 1 1 1 1 1 1 1 1 1 1 1 1 1\n",
            " 1 1 1 1 1 1 1 1 1 1 1 1 1 1 1 1 1 1 1 1 1 1 1 1 1 1 1 1 1 1 1 1 1 1 1 1 1\n",
            " 1 1 1 1 1 1 1 1 1 1 1 1 1 1]\n",
            "10044\n",
            "<class 'numpy.ndarray'>\n",
            "[1. 1. 1. ... 1. 1. 1.]\n"
          ]
        }
      ]
    },
    {
      "cell_type": "code",
      "metadata": {
        "colab": {
          "base_uri": "https://localhost:8080/"
        },
        "id": "2g0BDp74kVKa",
        "outputId": "235291af-85a2-42b2-b546-cad0f65aeed1"
      },
      "source": [
        "print(len(notvpTextDataRed))\n",
        "print(len(notvpTextDataNew))"
      ],
      "execution_count": 14,
      "outputs": [
        {
          "output_type": "stream",
          "name": "stdout",
          "text": [
            "1112\n",
            "10008\n"
          ]
        }
      ]
    },
    {
      "cell_type": "code",
      "metadata": {
        "colab": {
          "base_uri": "https://localhost:8080/"
        },
        "id": "yflx-e4Gd8HU",
        "outputId": "091f3e05-a824-4f84-d037-34b58e55b612"
      },
      "source": [
        "#라벨링 이거 이렇게 하는거 맞나? (5번에 있는거)\n",
        "notvpTargetDataNew=np.zeros(10008)\n",
        "print(notvpTargetDataNew)\n",
        "print(len(notvpTargetDataNew))\n",
        "print(type(notvpTargetDataNew))"
      ],
      "execution_count": 15,
      "outputs": [
        {
          "output_type": "stream",
          "name": "stdout",
          "text": [
            "[0. 0. 0. ... 0. 0. 0.]\n",
            "10008\n",
            "<class 'numpy.ndarray'>\n"
          ]
        }
      ]
    },
    {
      "cell_type": "code",
      "metadata": {
        "colab": {
          "base_uri": "https://localhost:8080/"
        },
        "id": "z0RqrCeJesxb",
        "outputId": "2a8cc732-83ff-4a24-a486-f63cccf5ed1e"
      },
      "source": [
        "allTargetData=np.append(yesvpTargetDataNew,notvpTargetDataNew) \n",
        "print(len(allTargetData))"
      ],
      "execution_count": 16,
      "outputs": [
        {
          "output_type": "stream",
          "name": "stdout",
          "text": [
            "20052\n"
          ]
        }
      ]
    },
    {
      "cell_type": "code",
      "metadata": {
        "colab": {
          "base_uri": "https://localhost:8080/"
        },
        "id": "j6MG3tqml2dM",
        "outputId": "3b5a77fb-2b21-47f9-c215-a69531a41cf7"
      },
      "source": [
        "print(len(allTextData))\n",
        "print(len(allTargetData))"
      ],
      "execution_count": 17,
      "outputs": [
        {
          "output_type": "stream",
          "name": "stdout",
          "text": [
            "20052\n",
            "20052\n"
          ]
        }
      ]
    },
    {
      "cell_type": "markdown",
      "metadata": {
        "id": "6peReb653MIp"
      },
      "source": [
        "#**4. 전처리(Preprocessing)**"
      ]
    },
    {
      "cell_type": "code",
      "metadata": {
        "colab": {
          "base_uri": "https://localhost:8080/"
        },
        "id": "SRrk62keE_UL",
        "outputId": "d87efd19-05c9-4558-b61b-84d448b293c3"
      },
      "source": [
        "import time\n",
        "start = time.time()\n",
        "\n",
        "#allTextData 토큰화\n",
        "tokenize = []\n",
        "num=0\n",
        "for text in allTextData:\n",
        "  num+=1\n",
        "  tokenSet = okt.morphs(text)\n",
        "  tokenize.append(tokenSet)\n",
        "  if num%1000==0:\n",
        "    print(num,\"/\",len(allTextData),\"->\",time.time()-start)\n",
        "print(num,\"/\",len(allTextData),\"->\",time.time()-start)"
      ],
      "execution_count": null,
      "outputs": [
        {
          "output_type": "stream",
          "name": "stdout",
          "text": [
            "1000 / 20052 -> 82.1097993850708\n",
            "2000 / 20052 -> 158.1877760887146\n",
            "3000 / 20052 -> 245.40758728981018\n",
            "4000 / 20052 -> 303.95262718200684\n",
            "5000 / 20052 -> 395.91958951950073\n",
            "6000 / 20052 -> 446.95098328590393\n"
          ]
        }
      ]
    },
    {
      "cell_type": "code",
      "metadata": {
        "id": "oYwLVZD538mm"
      },
      "source": [
        "stop_words = pd.read_csv('stop_words_new.txt',names = ['words'], encoding='utf-16')\n",
        "stop_data = np.array(stop_words['words']).tolist()"
      ],
      "execution_count": null,
      "outputs": []
    },
    {
      "cell_type": "code",
      "metadata": {
        "id": "USpNqSUf3iX7"
      },
      "source": [
        "# 불용어처리\n",
        "stop_result = []\n",
        "stop_body = []\n",
        "for tokenSet in tokenize:\n",
        "  for token in tokenSet:\n",
        "    if token not in stop_data:\n",
        "      stop_result.append(token)\n",
        "  stop_body.append(stop_result)\n",
        "  stop_result=[]\n",
        "\n",
        "#result엔 뭐가 들어있는거지 -> result는 샘플 하나의 불용어 처리한 결과가, body는 그런 result들이 append되서 만들어짐.\n",
        "print(\"토큰화 한 샘플(tokenize) = \",tokenize[0]) #토큰화 한 샘플\n",
        "print(\"불용어 처리 된 샘플(body) = \",stop_body[0]) #불용어 처리 된 샘플\n",
        "print(len(tokenize[0]))\n",
        "print(len(stop_body[0]))\n",
        "#문제: 숫자랑 문자로 표현된 숫자 불용어 처리 어떻게 할 건지"
      ],
      "execution_count": null,
      "outputs": []
    },
    {
      "cell_type": "code",
      "metadata": {
        "id": "PW7MFiCI5HJn"
      },
      "source": [
        "#어휘사전 만들기\n",
        "t = Tokenizer()\n",
        "t.fit_on_texts(stop_body)\n",
        "print(t.word_index)\n",
        "print(len(t.word_index))"
      ],
      "execution_count": null,
      "outputs": []
    },
    {
      "cell_type": "code",
      "metadata": {
        "id": "roWGuy2Y35pH"
      },
      "source": [
        "keys = []\n",
        "for key in t.word_index.keys():\n",
        "  keys.append(key)\n",
        "print(keys[500])"
      ],
      "execution_count": null,
      "outputs": []
    },
    {
      "cell_type": "code",
      "metadata": {
        "id": "HfifPZms5uFv"
      },
      "source": [
        "keys = keys[:500]\n",
        "#print(len(keys))\n",
        "dictionary = {keys[i]:i for i in range(len(keys))}\n",
        "print(dictionary)\n",
        "t.word_index = dictionary"
      ],
      "execution_count": null,
      "outputs": []
    },
    {
      "cell_type": "code",
      "metadata": {
        "id": "bt8NOZDS5uDn"
      },
      "source": [
        "#transform\n",
        "sequence_data = t.texts_to_sequences(stop_body) #transform = 숫자화 \n",
        "print('0=',sequence_data[0])"
      ],
      "execution_count": null,
      "outputs": []
    },
    {
      "cell_type": "code",
      "metadata": {
        "id": "eJPFjmHR5uA3"
      },
      "source": [
        "#단어사전 줄이기 \n",
        "dicList = []\n",
        "for sequenceSet in sequence_data:\n",
        "  temp = []\n",
        "  for sequence in sequenceSet:\n",
        "    if sequence > 499:\n",
        "      sequence = 499\n",
        "    temp.append(sequence)\n",
        "  dicList.append(temp)\n",
        "print(dicList[0])\n",
        "print(len(t.word_index))"
      ],
      "execution_count": null,
      "outputs": []
    },
    {
      "cell_type": "code",
      "metadata": {
        "id": "mrMfOCXn5t9E"
      },
      "source": [
        "#Padding\n",
        "tokenizer = Tokenizer()\n",
        "tokenizer.fit_on_texts(allTextData)"
      ],
      "execution_count": null,
      "outputs": []
    },
    {
      "cell_type": "code",
      "metadata": {
        "id": "LLgxs7TI5t6R"
      },
      "source": [
        "encoded = tokenizer.texts_to_sequences(allTextData)\n",
        "print(encoded)"
      ],
      "execution_count": null,
      "outputs": []
    },
    {
      "cell_type": "code",
      "metadata": {
        "id": "zrCOfnUr5t3C"
      },
      "source": [
        "padded = pad_sequences(dicList, truncating = 'post', maxlen = 500)\n",
        "#print(padded[0])\n",
        "print(padded.shape)"
      ],
      "execution_count": null,
      "outputs": []
    },
    {
      "cell_type": "markdown",
      "metadata": {
        "id": "Me459YuP_n_Q"
      },
      "source": [
        "#**5. 훈련/검증/테스트 데이터셋분할 (Train/Valid/Test)**"
      ]
    },
    {
      "cell_type": "code",
      "metadata": {
        "id": "Dz6nQwre_plh"
      },
      "source": [
        "x = allTextData\n",
        "y = allTargetData"
      ],
      "execution_count": null,
      "outputs": []
    },
    {
      "cell_type": "code",
      "metadata": {
        "id": "EfnVZcdi_pia"
      },
      "source": [
        "#훈련데이터셋 분할\n",
        "from sklearn.model_selection import train_test_split\n",
        "\n",
        "#dataset 자체는 order가 깔끔히 정렬된 상태이기 때문에 반드시 dataset을 shuffle 해주어야 한다.\n",
        "#sklearn에서 제공해주는 train_test_split을 활용하면 매우 쉽게 shuffle과 split을 할 수 있다."
      ],
      "execution_count": null,
      "outputs": []
    },
    {
      "cell_type": "code",
      "metadata": {
        "id": "ZSeTWnwa_pco"
      },
      "source": [
        "x_train, x_test, y_train, y_test = train_test_split(x, y, test_size=0.2)\n",
        "\n",
        "#x_train= Train훈련데이터 \n",
        "#x_test= Train테스트데이터 \n",
        "#y_train= Target훈련데이터 \n",
        "#y_test= Target테스트데이터 \n",
        "\n",
        "#train_test_split()은 기본적으로 훈련데이터 세트를 75:25의 비율로 나눔 \n",
        "#이 비율을 조정하고 싶을 때는 test_size 매개변수에 테스트 세트의 비율을 전달하면 조절할 수 있음 \n",
        "#여기서는 입력된 데이터 세트의 30%를 테스트 세트로 나누기 위해 0.3를 전달"
      ],
      "execution_count": null,
      "outputs": []
    },
    {
      "cell_type": "code",
      "metadata": {
        "id": "P8mmOQg6_pY_"
      },
      "source": [
        "x_train, x_val, y_train, y_val = train_test_split(x_train, y_train, test_size=0.375)\n",
        "#여기서는 입력된 데이터 세트의 30%를 테스트 세트로 나누기 위해 0.2를 전달"
      ],
      "execution_count": null,
      "outputs": []
    },
    {
      "cell_type": "code",
      "metadata": {
        "id": "E_gpmXPI_pSI"
      },
      "source": [
        "print(\"전체데이터=>\",len(allTextData),\"\\n\")\n",
        "\n",
        "print(\"학습데이터(Text)=>\",len(x_train))\n",
        "print(\"학습데이터(Target)=>\",len(y_train),\"\\n\")\n",
        "\n",
        "print(\"검증데이터(Text)=>\",len(x_val))\n",
        "print(\"검증데이터(Target)=>\",len(y_val),\"\\n\")\n",
        "\n",
        "print(\"테스트데이터(Text)=>\",len(x_test))\n",
        "print(\"테스트데이터(Target)=>\",len(y_test),\"\\n\")\n"
      ],
      "execution_count": null,
      "outputs": []
    },
    {
      "cell_type": "code",
      "metadata": {
        "id": "BRKU8K2l_o8a"
      },
      "source": [
        ""
      ],
      "execution_count": null,
      "outputs": []
    }
  ]
}